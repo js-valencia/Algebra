{
  "nbformat": 4,
  "nbformat_minor": 0,
  "metadata": {
    "colab": {
      "provenance": [],
      "authorship_tag": "ABX9TyPrUtfhpmUZ5U7E2ClVbT35",
      "include_colab_link": true
    },
    "kernelspec": {
      "name": "python3",
      "display_name": "Python 3"
    },
    "language_info": {
      "name": "python"
    }
  },
  "cells": [
    {
      "cell_type": "markdown",
      "metadata": {
        "id": "view-in-github",
        "colab_type": "text"
      },
      "source": [
        "<a href=\"https://colab.research.google.com/github/js-valencia/Algebra/blob/main/Algebra_grupal.ipynb\" target=\"_parent\"><img src=\"https://colab.research.google.com/assets/colab-badge.svg\" alt=\"Open In Colab\"/></a>"
      ]
    },
    {
      "cell_type": "code",
      "execution_count": null,
      "metadata": {
        "id": "jUHcGrEmb2dC"
      },
      "outputs": [],
      "source": []
    },
    {
      "cell_type": "markdown",
      "metadata": {
        "id": "eb9990bd"
      },
      "source": [
        "# Task\n",
        "Create a Python code to solve a 3x3 system of linear equations using Cramer's rule with cofactors. The code should print the step-by-step process, the final solution, and include the user's personal information."
      ]
    },
    {
      "cell_type": "markdown",
      "metadata": {
        "id": "0eb9433e"
      },
      "source": [
        "## Definir el sistema de ecuaciones\n",
        "\n",
        "### Subtask:\n",
        "Ingresar los coeficientes del sistema de ecuaciones 3x3.\n"
      ]
    },
    {
      "cell_type": "markdown",
      "metadata": {
        "id": "02e54cc7"
      },
      "source": [
        "**Reasoning**:\n",
        "Prompt the user for the coefficients of the 3x3 system of equations and their personal information.\n",
        "\n"
      ]
    },
    {
      "cell_type": "code",
      "metadata": {
        "colab": {
          "base_uri": "https://localhost:8080/"
        },
        "id": "f9143a73",
        "outputId": "0d556cc2-0d46-47c9-bf5e-6749d8e2a029"
      },
      "source": [
        "print(\"Introduce los coeficientes del sistema de ecuaciones lineales 3x3. (ax + by + cz = d):\")\n",
        "\n",
        "a1 = float(input(\"Ingresar a1: \"))\n",
        "b1 = float(input(\"Ingresar  b1: \"))\n",
        "c1 = float(input(\"Ingresar  c1: \"))\n",
        "d1 = float(input(\"Ingresar  d1: \"))\n",
        "\n",
        "a2 = float(input(\"Ingresar  a2: \"))\n",
        "b2 = float(input(\"Ingresar  b2: \"))\n",
        "c2 = float(input(\"Ingresar  c2: \"))\n",
        "d2 = float(input(\"Ingresar  d2: \"))\n",
        "\n",
        "a3 = float(input(\"Ingresar  a3: \"))\n",
        "b3 = float(input(\"Ingresar  b3: \"))\n",
        "c3 = float(input(\"Ingresar  c3: \"))\n",
        "d3 = float(input(\"Ingresar  d3: \"))\n",
        "\n",
        "print(\"\\nDatos Informativos:\")\n",
        "name1 = input(\"Ingrese el nombre del primer integrante: \")\n",
        "name2 = input(\"Ingrese el nombre del segundo integrante: \")\n",
        "id_number = input(\"Ingrese su carrera: \")\n",
        "fecha = input(\"Ingrese la fecha: \")"
      ],
      "execution_count": 8,
      "outputs": [
        {
          "name": "stdout",
          "output_type": "stream",
          "text": [
            "Introduce los coeficientes del sistema de ecuaciones lineales 3x3. (ax + by + cz = d):\n",
            "Ingresar a1: 120\n",
            "Ingresar  b1: 80\n",
            "Ingresar  c1: 100\n",
            "Ingresar  d1: 1540\n",
            "Ingresar  a2: 200\n",
            "Ingresar  b2: 100\n",
            "Ingresar  c2: 150\n",
            "Ingresar  d2: 2620\n",
            "Ingresar  a3: 150\n",
            "Ingresar  b3: 60\n",
            "Ingresar  c3: 200\n",
            "Ingresar  d3: 2290\n",
            "\n",
            "Datos Informativos:\n",
            "Ingrese el nombre del primer integrante: José Valencia\n",
            "Ingrese el nombre del segundo integrante: Javier Guarnizo\n",
            "Ingrese su carrera: Computación\n",
            "Ingrese la fecha: 28/10/2025\n"
          ]
        }
      ]
    },
    {
      "cell_type": "markdown",
      "metadata": {
        "id": "00205f3a"
      },
      "source": [
        "## Calcular el determinante principal\n",
        "\n",
        "### Subtask:\n",
        "Calcular el determinante de la matriz de coeficientes.\n"
      ]
    },
    {
      "cell_type": "markdown",
      "metadata": {
        "id": "ae5631dd"
      },
      "source": [
        "**Reasoning**:\n",
        "Define a function to calculate the determinant of a 3x3 matrix using the cofactor expansion method, call the function with the main coefficients, store the result, and print it.\n",
        "\n"
      ]
    },
    {
      "cell_type": "code",
      "metadata": {
        "colab": {
          "base_uri": "https://localhost:8080/"
        },
        "id": "938cc55b",
        "outputId": "86ff8a5d-edd5-46d0-bfef-d748020c83b8"
      },
      "source": [
        "def determinant_3x3(a1, b1, c1, a2, b2, c2, a3, b3, c3):\n",
        "  \"\"\"Calculates the determinant of a 3x3 matrix using cofactor expansion.\"\"\"\n",
        "  det = a1 * (b2 * c3 - b3 * c2) - b1 * (a2 * c3 - a3 * c2) + c1 * (a2 * b3 - a3 * b2)\n",
        "  return det\n",
        "\n",
        "det_main = determinant_3x3(a1, b1, c1, a2, b2, c2, a3, b3, c3)\n",
        "print(\"Determinante principal:\", det_main)"
      ],
      "execution_count": 9,
      "outputs": [
        {
          "output_type": "stream",
          "name": "stdout",
          "text": [
            "Determinante principal: -380000.0\n"
          ]
        }
      ]
    },
    {
      "cell_type": "markdown",
      "metadata": {
        "id": "fce50f58"
      },
      "source": [
        "## Calcular los determinantes para cada variable\n",
        "\n",
        "### Subtask:\n",
        "Para cada variable (x, y, z), reemplazar la columna de coeficientes correspondiente con la columna de términos independientes y calcular el determinante de la nueva matriz.\n"
      ]
    },
    {
      "cell_type": "markdown",
      "metadata": {
        "id": "fe017690"
      },
      "source": [
        "**Reasoning**:\n",
        "Define the `determinant_3x3` function and calculate the determinants for x, y, and z by replacing the respective columns with the independent terms and using the defined function. Finally, print these determinants.\n",
        "\n"
      ]
    },
    {
      "cell_type": "code",
      "metadata": {
        "colab": {
          "base_uri": "https://localhost:8080/"
        },
        "id": "22761e49",
        "outputId": "4794e2e8-5357-44ae-c4ec-890e47ff3b8e"
      },
      "source": [
        "def determinant_3x3(a1, b1, c1, a2, b2, c2, a3, b3, c3):\n",
        "  \"\"\"Calculates the determinant of a 3x3 matrix using cofactor expansion.\"\"\"\n",
        "  det = a1 * (b2 * c3 - b3 * c2) - b1 * (a2 * c3 - a3 * c2) + c1 * (a2 * b3 - a3 * b2)\n",
        "  return det\n",
        "\n",
        "det_x = determinant_3x3(d1, b1, c1, d2, b2, c2, d3, b3, c3)\n",
        "det_y = determinant_3x3(a1, d1, c1, a2, d2, c2, a3, d3, c3)\n",
        "det_z = determinant_3x3(a1, b1, d1, a2, b2, d2, a3, b3, d3)\n",
        "\n",
        "print(\"Determinante para x:\", det_x)\n",
        "print(\"Determinante para y:\", det_y)\n",
        "print(\"Determinante para z:\", det_z)"
      ],
      "execution_count": 3,
      "outputs": [
        {
          "output_type": "stream",
          "name": "stdout",
          "text": [
            "Determinante para x: -4680000.0\n",
            "Determinante para y: 1210000.0\n",
            "Determinante para z: -1204000.0\n"
          ]
        }
      ]
    },
    {
      "cell_type": "markdown",
      "metadata": {
        "id": "c2cb9127"
      },
      "source": [
        "## Resolver el sistema\n",
        "\n",
        "### Subtask:\n",
        "Dividir el determinante de cada variable por el determinante principal para encontrar el valor de cada variable.\n"
      ]
    },
    {
      "cell_type": "markdown",
      "metadata": {
        "id": "fd10c071"
      },
      "source": [
        "**Reasoning**:\n",
        "Check if the main determinant is zero and calculate the values of x, y, and z if it is not.\n",
        "\n"
      ]
    },
    {
      "cell_type": "code",
      "metadata": {
        "colab": {
          "base_uri": "https://localhost:8080/"
        },
        "id": "2d34a358",
        "outputId": "96ae13d3-e7cf-48cf-9a8c-d907ab0d5df6"
      },
      "source": [
        "if det_main == 0:\n",
        "    print(\"El sistema no tiene solución única y no puede resolverse mediante la regla de Cramer.\")\n",
        "else:\n",
        "    x = det_x / det_main\n",
        "    y = det_y / det_main\n",
        "    z = det_z / det_main\n",
        "    print(\"La solución es:\")\n",
        "    print(\"x =\", x)\n",
        "    print(\"y =\", y)\n",
        "    print(\"z =\", z)"
      ],
      "execution_count": 11,
      "outputs": [
        {
          "output_type": "stream",
          "name": "stdout",
          "text": [
            "La solución es:\n",
            "x = 12.31578947368421\n",
            "y = -3.1842105263157894\n",
            "z = 3.168421052631579\n"
          ]
        }
      ]
    },
    {
      "cell_type": "markdown",
      "metadata": {
        "id": "438eb932"
      },
      "source": [
        "## Mostrar el proceso y la respuesta\n",
        "\n",
        "### Subtask:\n",
        "Imprimir los determinantes calculados, los pasos de la resolución y los valores de las variables.\n"
      ]
    },
    {
      "cell_type": "markdown",
      "metadata": {
        "id": "23043e42"
      },
      "source": [
        "**Reasoning**:\n",
        "Print the calculated determinants, the steps of the solution using Cramer's rule, and the final values of the variables.\n",
        "\n"
      ]
    },
    {
      "cell_type": "code",
      "metadata": {
        "colab": {
          "base_uri": "https://localhost:8080/"
        },
        "id": "91043bef",
        "outputId": "95121925-e4c2-4e6a-8335-04001d07109f"
      },
      "source": [
        "print(\"\\n--- Detalles de la Solución ---\")\n",
        "\n",
        "# Step 1: Print the calculated determinants\n",
        "print(f\"\\nDeterminantes Calculadas:\")\n",
        "print(f\"Determinante del coeficiente de la matríz principal (det_main): {det_main}\")\n",
        "print(f\"Determinante para x (det_x): {det_x}\")\n",
        "print(f\"Determinante para y (det_y): {det_y}\")\n",
        "print(f\"Determinante para z (det_z): {det_z}\")\n",
        "\n",
        "# Step 2: Print a step-by-step explanation of the solution using Cramer's rule\n",
        "print(\"\\nUsando al regla de Cramer paso por paso:\")\n",
        "print(\"La regla de Cramer establece que, para un sistema de ecuaciones lineales, el valor de cada variable se obtiene dividiendo el determinante de la matriz donde la columna de coeficientes de dicha variable se reemplaza por los términos constantes (d1, d2, d3) entre el determinante de la matriz de coeficientes principal.\")\n",
        "\n",
        "if det_main == 0:\n",
        "    print(\"\\nDado que el determinante principal es 0, el sistema no tiene solución única y no se puede aplicar la regla de Cramer.\")\n",
        "else:\n",
        "    print(f\"\\nPara encontrar x: x = det_x / det_main = {det_x} / {det_main}\")\n",
        "    print(f\"Para encontrar y: y = det_y / det_main = {det_y} / {det_main}\")\n",
        "    print(f\"Para encontrar z: z = det_z / det_main = {det_z} / {det_main}\")\n",
        "\n",
        "# Step 3: Print the final calculated values of x, y, and z\n",
        "print(\"\\nSolución finaln:\")\n",
        "print(f\"x = {x}\")\n",
        "print(f\"y = {y}\")\n",
        "print(f\"z = {z}\")\n",
        "\n",
        "print(f\"\\nSolucion para {name1, name2}:\")\n",
        "print(f\"x = {x}\")\n",
        "print(f\"y = {y}\")\n",
        "print(f\"z = {z}\")"
      ],
      "execution_count": 12,
      "outputs": [
        {
          "output_type": "stream",
          "name": "stdout",
          "text": [
            "\n",
            "--- Detalles de la Solución ---\n",
            "\n",
            "Determinantes Calculadas:\n",
            "Determinante del coeficiente de la matríz principal (det_main): -380000.0\n",
            "Determinante para x (det_x): -4680000.0\n",
            "Determinante para y (det_y): 1210000.0\n",
            "Determinante para z (det_z): -1204000.0\n",
            "\n",
            "Usando al regla de Cramer paso por paso:\n",
            "La regla de Cramer establece que, para un sistema de ecuaciones lineales, el valor de cada variable se obtiene dividiendo el determinante de la matriz donde la columna de coeficientes de dicha variable se reemplaza por los términos constantes (d1, d2, d3) entre el determinante de la matriz de coeficientes principal.\n",
            "\n",
            "Para encontrar x: x = det_x / det_main = -4680000.0 / -380000.0\n",
            "Para encontrar y: y = det_y / det_main = 1210000.0 / -380000.0\n",
            "Para encontrar z: z = det_z / det_main = -1204000.0 / -380000.0\n",
            "\n",
            "Solución finaln:\n",
            "x = 12.31578947368421\n",
            "y = -3.1842105263157894\n",
            "z = 3.168421052631579\n",
            "\n",
            "Solucion para ('José Valencia', 'Javier Guarnizo'):\n",
            "x = 12.31578947368421\n",
            "y = -3.1842105263157894\n",
            "z = 3.168421052631579\n"
          ]
        }
      ]
    },
    {
      "cell_type": "markdown",
      "metadata": {
        "id": "888ec257"
      },
      "source": [
        "## Incluir datos informativos\n",
        "\n",
        "### Subtask:\n",
        "Agregar la información personal del usuario al final de la salida.\n"
      ]
    },
    {
      "cell_type": "markdown",
      "metadata": {
        "id": "68504327"
      },
      "source": [
        "**Reasoning**:\n",
        "Print the personal information of the user.\n",
        "\n"
      ]
    },
    {
      "cell_type": "code",
      "metadata": {
        "colab": {
          "base_uri": "https://localhost:8080/"
        },
        "id": "e60cd8ac",
        "outputId": "e69a010c-c007-406a-9ca9-d24b5fedc70d"
      },
      "source": [
        "print(\"\\n--- Datos Informativos: ---\")\n",
        "print(\"Integrantes: \", name1, name2)\n",
        "print(\"Carrera: \", id_number)\n",
        "print(\"Fecha: \", fecha)"
      ],
      "execution_count": 13,
      "outputs": [
        {
          "output_type": "stream",
          "name": "stdout",
          "text": [
            "\n",
            "--- Datos Informativos: ---\n",
            "Integrantes:  José Valencia Javier Guarnizo\n",
            "Carrera:  Computación\n",
            "Fecha:  28/10/2025\n"
          ]
        }
      ]
    },
    {
      "cell_type": "markdown",
      "metadata": {
        "id": "71145c6b"
      },
      "source": [
        "## Summary:\n",
        "\n",
        "### Data Analysis Key Findings\n",
        "\n",
        "*   The system successfully collected the coefficients for a 3x3 system of linear equations and the user's personal information (name and ID).\n",
        "*   The determinant of the main coefficient matrix (\\-380000.0) was calculated using cofactor expansion.\n",
        "*   The determinants for each variable (x, y, and z) were calculated by replacing the corresponding coefficient column with the independent terms. The calculated determinants were \\-4680000.0 for x, 1210000.0 for y, and \\-1204000.0 for z.\n",
        "*   Since the main determinant was non-zero, the system has a unique solution.\n",
        "*   The values for x, y, and z were calculated by dividing the respective variable determinants by the main determinant, resulting in x = 12.31578947368421, y = \\-3.1842105263157894, and z = 3.168421052631579.\n",
        "*   The code successfully printed the calculated determinants, a step-by-step explanation of Cramer's rule, the final solution for x, y, and z, and the user's personal information.\n",
        "\n",
        "### Insights or Next Steps\n",
        "\n",
        "*   The code provides a clear and effective step-by-step demonstration of solving a 3x3 system of linear equations using Cramer's rule.\n",
        "*   Consider adding error handling for non-numeric input and potentially for systems with no unique solution beyond just detecting a zero main determinant (e.g., infinite solutions).\n"
      ]
    }
  ]
}