{
  "nbformat": 4,
  "nbformat_minor": 0,
  "metadata": {
    "colab": {
      "provenance": [],
      "authorship_tag": "ABX9TyMZxxtd0VEuybprbOy/e/fD",
      "include_colab_link": true
    },
    "kernelspec": {
      "name": "python3",
      "display_name": "Python 3"
    },
    "language_info": {
      "name": "python"
    }
  },
  "cells": [
    {
      "cell_type": "markdown",
      "metadata": {
        "id": "view-in-github",
        "colab_type": "text"
      },
      "source": [
        "<a href=\"https://colab.research.google.com/github/js-valencia/Algebra/blob/main/CodigoAlgebra3x3_py.ipynb\" target=\"_parent\"><img src=\"https://colab.research.google.com/assets/colab-badge.svg\" alt=\"Open In Colab\"/></a>"
      ]
    },
    {
      "cell_type": "code",
      "execution_count": null,
      "metadata": {
        "colab": {
          "base_uri": "https://localhost:8080/"
        },
        "id": "3YkqjnlRSIl1",
        "outputId": "be35bbe7-4d1f-49a8-eb2c-a3418af7c492"
      },
      "outputs": [
        {
          "output_type": "stream",
          "name": "stdout",
          "text": [
            "Hora acuat en Ecuador:  2025-10-17 08:50:43\n",
            "José David Valencia Condoy\n",
            "Primer ciclo  -  Computación\n"
          ]
        },
        {
          "output_type": "execute_result",
          "data": {
            "text/plain": [
              "{x: 300, y: 400, z: 500}"
            ]
          },
          "metadata": {},
          "execution_count": 11
        }
      ],
      "source": [
        "from datetime import datetime\n",
        "from sympy import symbols, Eq, solve\n",
        "import pytz\n",
        "\n",
        "#Definir la zona horaria de Ecuador\n",
        "ecuador_tz = pytz.timezone(\"America/Guayaquil\")\n",
        "\n",
        "#Obtener la hora acutal en Ecuador\n",
        "hora_actual = datetime.now(ecuador_tz)\n",
        "\n",
        "#Imprimir la hora en formato legible\n",
        "print(\"Hora acuat en Ecuador: \", hora_actual.strftime(\"%Y-%m-%d %H:%M:%S\"))\n",
        "print(\"José David Valencia Condoy\")\n",
        "print(\"Primer ciclo  -  Computación\")\n",
        "\n",
        "x, y, z = symbols('x y z')\n",
        "sol = solve([\n",
        "    Eq(x + y + z, 1200),\n",
        "    Eq(2*x + y + 3*z, 2500),\n",
        "    Eq(x - y + z, 400)\n",
        "], (x, y, z))\n",
        "sol"
      ]
    },
    {
      "cell_type": "code",
      "source": [
        "from datetime import datetime\n",
        "from sympy import symbols, Eq, solve\n",
        "import pytz\n",
        "\n",
        "#Definir la zona horaria de Ecuador\n",
        "ecuador_tz = pytz.timezone(\"America/Guayaquil\")\n",
        "\n",
        "#Obtener la hora acutal en Ecuador\n",
        "hora_actual = datetime.now(ecuador_tz)\n",
        "\n",
        "#Imprimir la hora en formato legible\n",
        "print(\"Hora acuat en Ecuador: \", hora_actual.strftime(\"%Y-%m-%d %H:%M:%S\"))\n",
        "print(\"José David Valencia Condoy\")\n",
        "print(\"Primer ciclo  -  Computación\")\n",
        "\n",
        "x, y, z = symbols('x y z')\n",
        "sol = solve([\n",
        "    Eq(x + 2*y + 3*z, 14),\n",
        "    Eq(2*x + 3*y + z, 13),\n",
        "    Eq(3*x + y + 2*z, 13)\n",
        "], (x, y, z))\n",
        "sol"
      ],
      "metadata": {
        "colab": {
          "base_uri": "https://localhost:8080/"
        },
        "id": "GFHolexdZkdL",
        "outputId": "d79c42e9-a501-403c-8efe-5b3b38996129"
      },
      "execution_count": null,
      "outputs": [
        {
          "output_type": "stream",
          "name": "stdout",
          "text": [
            "Hora acuat en Ecuador:  2025-10-17 08:50:53\n",
            "José David Valencia Condoy\n",
            "Primer ciclo  -  Computación\n"
          ]
        },
        {
          "output_type": "execute_result",
          "data": {
            "text/plain": [
              "{x: 17/9, y: 20/9, z: 23/9}"
            ]
          },
          "metadata": {},
          "execution_count": 12
        }
      ]
    }
  ]
}