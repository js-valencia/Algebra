{
  "nbformat": 4,
  "nbformat_minor": 0,
  "metadata": {
    "colab": {
      "provenance": [],
      "authorship_tag": "ABX9TyM0ngIzUpadf0ICfu5jWlsg",
      "include_colab_link": true
    },
    "kernelspec": {
      "name": "python3",
      "display_name": "Python 3"
    },
    "language_info": {
      "name": "python"
    }
  },
  "cells": [
    {
      "cell_type": "markdown",
      "metadata": {
        "id": "view-in-github",
        "colab_type": "text"
      },
      "source": [
        "<a href=\"https://colab.research.google.com/github/js-valencia/Algebra/blob/main/Untitled1.ipynb\" target=\"_parent\"><img src=\"https://colab.research.google.com/assets/colab-badge.svg\" alt=\"Open In Colab\"/></a>"
      ]
    },
    {
      "cell_type": "code",
      "execution_count": 2,
      "metadata": {
        "colab": {
          "base_uri": "https://localhost:8080/"
        },
        "id": "yq0kHL8gN_lf",
        "outputId": "13962195-af27-49e6-b878-e963e4d9da20"
      },
      "outputs": [
        {
          "output_type": "stream",
          "name": "stdout",
          "text": [
            "Fecha:  2025-10-21\n",
            "Mis nombres son: José David Valencia Condoy\n",
            "Mi carrera es: Computación\n",
            "Matriz A:\n",
            " [[ 2  4  6]\n",
            " [ 1  3  5]\n",
            " [ 0 -1  2]]\n",
            "\n",
            "Matriz B:\n",
            " [[ 3  2  1]\n",
            " [ 4  0 -2]\n",
            " [ 1  3  5]]\n",
            "\n",
            " Producto matricial (A * B):\n",
            " [[28 22 24]\n",
            " [20 17 20]\n",
            " [-2  6 12]]\n",
            "El valor de C[1,0] es:  20\n"
          ]
        }
      ],
      "source": [
        "import numpy as np\n",
        "from datetime import datetime\n",
        "import pytz\n",
        "\n",
        "# Definir la zona horaria de Ecuador\n",
        "ecuador_tz = pytz.timezone(\"America/Guayaquil\")\n",
        "\n",
        "# Obtener la hora actual en Ecuador\n",
        "hora_actual = datetime.now(ecuador_tz)\n",
        "\n",
        "# Imprimir la hora en formato legible\n",
        "print(\"Fecha: \", hora_actual.strftime(\"%Y-%m-%d\"))\n",
        "print(\"Mis nombres son: José David Valencia Condoy\")\n",
        "print(\"Mi carrera es: Computación\")\n",
        "\n",
        "# Definir dos matrices A y B de 3x3\n",
        "A = np.array([[2, 4, 6],\n",
        "              [1, 3, 5],\n",
        "              [0, -1, 2],])\n",
        "\n",
        "B = np.array([[3, 2, 1],\n",
        "              [4, 0, -2],\n",
        "             [1, 3, 5], ])\n",
        "print(\"Matriz A:\\n\", A)\n",
        "print(\"\\nMatriz B:\\n\", B)\n",
        "\n",
        "# ------------------------------\n",
        "#  Multiplicación matricial\n",
        "# ------------------------------\n",
        "producto = np.dot(A, B)   # o A @ B\n",
        "print(\"\\n Producto matricial (A * B):\\n\", producto)\n",
        "\n",
        "valor = A[1,0] * B[0,0] + A[1,1] * B[1,0]+A[1,2] * B[2,0]\n",
        "print(\"El valor de C[1,0] es: \", valor)"
      ]
    }
  ]
}