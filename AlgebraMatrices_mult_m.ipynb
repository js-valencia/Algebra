{
  "nbformat": 4,
  "nbformat_minor": 0,
  "metadata": {
    "colab": {
      "provenance": [],
      "authorship_tag": "ABX9TyNtQdvAMmpPMKsU1duplzjl",
      "include_colab_link": true
    },
    "kernelspec": {
      "name": "python3",
      "display_name": "Python 3"
    },
    "language_info": {
      "name": "python"
    }
  },
  "cells": [
    {
      "cell_type": "markdown",
      "metadata": {
        "id": "view-in-github",
        "colab_type": "text"
      },
      "source": [
        "<a href=\"https://colab.research.google.com/github/js-valencia/Algebra/blob/main/AlgebraMatrices_mult_m.ipynb\" target=\"_parent\"><img src=\"https://colab.research.google.com/assets/colab-badge.svg\" alt=\"Open In Colab\"/></a>"
      ]
    },
    {
      "cell_type": "code",
      "execution_count": 6,
      "metadata": {
        "colab": {
          "base_uri": "https://localhost:8080/"
        },
        "id": "4AWowQcIpg_s",
        "outputId": "57114a7d-8798-4a59-beb7-d809f85fafa3"
      },
      "outputs": [
        {
          "output_type": "stream",
          "name": "stdout",
          "text": [
            "Matriz A:\n",
            " [[ 1  0]\n",
            " [ 6 -2]\n",
            " [-1  4]]\n",
            "\n",
            "Matriz B:\n",
            " [[ 2 -5  1 -2]\n",
            " [ 3  2  0 -1]]\n",
            "\n",
            " Producto matricial (A * B):\n",
            " [[  2  -5   1  -2]\n",
            " [  6 -34   6 -10]\n",
            " [ 10  13  -1  -2]]\n",
            "El valor de C[1,0] es:  6\n"
          ]
        }
      ],
      "source": [
        "import numpy as np\n",
        "\n",
        "# Definir dos matrices A y B de 3x3\n",
        "A = np.array([[1, 0],\n",
        "              [6, -2],\n",
        "              [-1, 4],])\n",
        "\n",
        "B = np.array([[2, -5, 1, -2],\n",
        "              [3, 2, 0, -1],\n",
        "              ])\n",
        "print(\"Matriz A:\\n\", A)\n",
        "print(\"\\nMatriz B:\\n\", B)\n",
        "\n",
        "# ------------------------------\n",
        "#  Multiplicación matricial\n",
        "# ------------------------------\n",
        "producto = np.dot(A, B)   # o A @ B\n",
        "print(\"\\n Producto matricial (A * B):\\n\", producto)\n",
        "\n",
        "valor = A[1,0] * B[0,0] + A[1,1] * B[1,0]\n",
        "print(\"El valor de C[1,0] es: \", valor)\n"
      ]
    }
  ]
}