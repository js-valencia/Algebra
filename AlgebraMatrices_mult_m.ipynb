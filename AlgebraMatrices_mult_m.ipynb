{
  "nbformat": 4,
  "nbformat_minor": 0,
  "metadata": {
    "colab": {
      "provenance": [],
      "authorship_tag": "ABX9TyMyLOU0sgxp8CX9LjlveVsA",
      "include_colab_link": true
    },
    "kernelspec": {
      "name": "python3",
      "display_name": "Python 3"
    },
    "language_info": {
      "name": "python"
    }
  },
  "cells": [
    {
      "cell_type": "markdown",
      "metadata": {
        "id": "view-in-github",
        "colab_type": "text"
      },
      "source": [
        "<a href=\"https://colab.research.google.com/github/js-valencia/Algebra/blob/main/AlgebraMatrices_mult_m.ipynb\" target=\"_parent\"><img src=\"https://colab.research.google.com/assets/colab-badge.svg\" alt=\"Open In Colab\"/></a>"
      ]
    },
    {
      "cell_type": "code",
      "execution_count": 11,
      "metadata": {
        "colab": {
          "base_uri": "https://localhost:8080/"
        },
        "id": "4AWowQcIpg_s",
        "outputId": "ee716f9c-4cc2-4f46-8994-d2fe4ca2a921"
      },
      "outputs": [
        {
          "output_type": "stream",
          "name": "stdout",
          "text": [
            "Fecha:  2025-10-20\n",
            "Mis nombres son: José David Valencia Condoy\n",
            "Mi carrera es: Computación\n",
            "Matriz A:\n",
            " [[ 1  0]\n",
            " [ 6 -2]\n",
            " [-1  4]]\n",
            "\n",
            "Matriz B:\n",
            " [[ 2 -5  1 -2]\n",
            " [ 3  2  0 -1]]\n",
            "\n",
            " Producto matricial (A * B):\n",
            " [[  2  -5   1  -2]\n",
            " [  6 -34   6 -10]\n",
            " [ 10  13  -1  -2]]\n",
            "El valor de C[1,0] es:  6\n"
          ]
        }
      ],
      "source": [
        "import numpy as np\n",
        "from datetime import datetime\n",
        "import pytz\n",
        "\n",
        "# Definir la zona horaria de Ecuador\n",
        "ecuador_tz = pytz.timezone(\"America/Guayaquil\")\n",
        "\n",
        "# Obtener la hora actual en Ecuador\n",
        "hora_actual = datetime.now(ecuador_tz)\n",
        "\n",
        "# Imprimir la hora en formato legible\n",
        "print(\"Fecha: \", hora_actual.strftime(\"%Y-%m-%d\"))\n",
        "print(\"Mis nombres son: José David Valencia Condoy\")\n",
        "print(\"Mi carrera es: Computación\")\n",
        "\n",
        "# Definir dos matrices A y B de 3x3\n",
        "A = np.array([[1, 0],\n",
        "              [6, -2],\n",
        "              [-1, 4],])\n",
        "\n",
        "B = np.array([[2, -5, 1, -2],\n",
        "              [3, 2, 0, -1],\n",
        "              ])\n",
        "print(\"Matriz A:\\n\", A)\n",
        "print(\"\\nMatriz B:\\n\", B)\n",
        "\n",
        "# ------------------------------\n",
        "#  Multiplicación matricial\n",
        "# ------------------------------\n",
        "producto = np.dot(A, B)   # o A @ B\n",
        "print(\"\\n Producto matricial (A * B):\\n\", producto)\n",
        "\n",
        "valor = A[1,0] * B[0,0] + A[1,1] * B[1,0]\n",
        "print(\"El valor de C[1,0] es: \", valor)\n"
      ]
    }
  ]
}