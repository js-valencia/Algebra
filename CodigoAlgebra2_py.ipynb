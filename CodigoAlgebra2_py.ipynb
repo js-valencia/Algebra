{
  "nbformat": 4,
  "nbformat_minor": 0,
  "metadata": {
    "colab": {
      "provenance": [],
      "authorship_tag": "ABX9TyMOC0Ef5Hmk4MqYxUjLXPCk",
      "include_colab_link": true
    },
    "kernelspec": {
      "name": "python3",
      "display_name": "Python 3"
    },
    "language_info": {
      "name": "python"
    }
  },
  "cells": [
    {
      "cell_type": "markdown",
      "metadata": {
        "id": "view-in-github",
        "colab_type": "text"
      },
      "source": [
        "<a href=\"https://colab.research.google.com/github/js-valencia/Algebra/blob/main/CodigoAlgebra2_py.ipynb\" target=\"_parent\"><img src=\"https://colab.research.google.com/assets/colab-badge.svg\" alt=\"Open In Colab\"/></a>"
      ]
    },
    {
      "cell_type": "code",
      "execution_count": 1,
      "metadata": {
        "colab": {
          "base_uri": "https://localhost:8080/"
        },
        "id": "Hf_PC4q3RRd1",
        "outputId": "50316399-c923-4744-f1b4-49e92941fe3f"
      },
      "outputs": [
        {
          "output_type": "stream",
          "name": "stdout",
          "text": [
            "\u001b[31mERROR: You must give at least one requirement to install (see \"pip help install\")\u001b[0m\u001b[31m\n",
            "\u001b[0mRequirement already satisfied: sympy in /usr/local/lib/python3.12/dist-packages (1.13.3)\n",
            "Requirement already satisfied: mpmath<1.4,>=1.1.0 in /usr/local/lib/python3.12/dist-packages (from sympy) (1.3.0)\n",
            "Resolviendo un sistema 2x2 con el MÉTODO DE SUSTITUCIÓN\n",
            "Forma general:\n",
            "a1*x + b1*y = c1\n",
            "a2*x + b2*y = c2\n",
            "--------------------------------------------------\n",
            "Ingrese los coeficientes de la primera ecuación (a1 b1 c1): 5 7 -1\n",
            "Ingrese los coeficientes de la segunda ecuación (a2 b2 c2): -3 4 -24\n",
            "\n",
            "Ecuaciones ingresadas:\n",
            "E1: Eq(5.0*x + 7.0*y, -1.0)\n",
            "E2: Eq(-3.0*x + 4.0*y, -24.0)\n",
            "\n",
            "Paso 1: Despejamos x de la primera ecuación:\n",
            "x = -1.4*y - 0.2\n",
            "\n",
            "Paso 2: Sustituimos x en la segunda ecuación:\n",
            "Ecuación en y: Eq(8.2*y + 0.6, -24.0)\n",
            "\n",
            "Paso 3: Resolviendo para y obtenemos: y = -3.00000000000000\n",
            "\n",
            "Paso 4: Sustituyendo y en la ecuación despejada obtenemos: x = 4.00000000000000\n",
            "\n",
            "✅ Solución del sistema:\n",
            "x = 4.00000000000000, y = -3.00000000000000\n"
          ]
        }
      ],
      "source": [
        "!pip install --upgrade\n",
        "!pip install sympy\n",
        "import sympy\n",
        "\n",
        "\n",
        "\n",
        "from sympy import symbols, Eq, solve\n",
        "\n",
        "# Definimos las variables\n",
        "x, y = symbols('x y')\n",
        "\n",
        "print(\"Resolviendo un sistema 2x2 con el MÉTODO DE SUSTITUCIÓN\")\n",
        "print(\"Forma general:\")\n",
        "print(\"a1*x + b1*y = c1\")\n",
        "print(\"a2*x + b2*y = c2\")\n",
        "print(\"-\" * 50)\n",
        "\n",
        "# Pedimos los coeficientes al usuario\n",
        "a1, b1, c1 = map(float, input(\"Ingrese los coeficientes de la primera ecuación (a1 b1 c1): \").split())\n",
        "a2, b2, c2 = map(float, input(\"Ingrese los coeficientes de la segunda ecuación (a2 b2 c2): \").split())\n",
        "\n",
        "# Creamos las ecuaciones\n",
        "ec1 = Eq(a1*x + b1*y, c1)\n",
        "ec2 = Eq(a2*x + b2*y, c2)\n",
        "\n",
        "print(\"\\nEcuaciones ingresadas:\")\n",
        "print(\"E1:\", ec1)\n",
        "print(\"E2:\", ec2)\n",
        "\n",
        "# Paso 1: Despejar x de la primera ecuación\n",
        "despeje_x = solve(ec1, x)[0]\n",
        "print(f\"\\nPaso 1: Despejamos x de la primera ecuación:\")\n",
        "print(f\"x = {despeje_x}\")\n",
        "\n",
        "# Paso 2: Sustituimos x en la segunda ecuación\n",
        "print(\"\\nPaso 2: Sustituimos x en la segunda ecuación:\")\n",
        "ec2_sust = ec2.subs(x, despeje_x)\n",
        "print(\"Ecuación en y:\", ec2_sust)\n",
        "\n",
        "# Paso 3: Resolver para y\n",
        "sol_y = solve(ec2_sust, y)[0]\n",
        "print(f\"\\nPaso 3: Resolviendo para y obtenemos: y = {sol_y}\")\n",
        "\n",
        "# Paso 4: Sustituir y en la ecuación de x\n",
        "sol_x = despeje_x.subs(y, sol_y)\n",
        "print(f\"\\nPaso 4: Sustituyendo y en la ecuación despejada obtenemos: x = {sol_x}\")\n",
        "\n",
        "# Solución final\n",
        "print(\"\\n✅ Solución del sistema:\")\n",
        "print(f\"x = {sol_x}, y = {sol_y}\")"
      ]
    }
  ]
}